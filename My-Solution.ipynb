{
 "cells": [
  {
   "cell_type": "markdown",
   "metadata": {},
   "source": [
    "![rmotr](https://user-images.githubusercontent.com/7065401/52071918-bda15380-2562-11e9-828c-7f95297e4a82.png)\n",
    "<hr style=\"margin-bottom: 40px;\">\n",
    "\n",
    "<img src=\"https://user-images.githubusercontent.com/7065401/58563302-42466a80-8201-11e9-9948-b3e9f88a5662.jpg\"\n",
    "    style=\"width:400px; float: right; margin: 0 40px 40px 40px;\"></img>\n",
    "\n",
    "### Project\n",
    "\n",
    "# Bike store sales\n",
    "\n",
    "Let's put in practice the topics covered in the course and analyze sales made in a Bike Shop."
   ]
  },
  {
   "cell_type": "markdown",
   "metadata": {},
   "source": [
    "![purple-divider](https://user-images.githubusercontent.com/7065401/52071927-c1cd7100-2562-11e9-908a-dde91ba14e59.png)\n",
    "\n",
    "## Hands on! "
   ]
  },
  {
   "cell_type": "code",
   "execution_count": 77,
   "metadata": {},
   "outputs": [],
   "source": [
    "import numpy as np\n",
    "import pandas as pd"
   ]
  },
  {
   "cell_type": "code",
   "execution_count": 78,
   "metadata": {},
   "outputs": [],
   "source": [
    "sales = pd.read_csv('data/sales_data.csv')"
   ]
  },
  {
   "cell_type": "markdown",
   "metadata": {},
   "source": [
    "![green-divider](https://user-images.githubusercontent.com/7065401/52071924-c003ad80-2562-11e9-8297-1c6595f8a7ff.png)\n",
    "\n",
    "### First look at our data\n",
    "\n",
    "Analyze what columns we have, what type they are and what data is on them."
   ]
  },
  {
   "cell_type": "code",
   "execution_count": 79,
   "metadata": {},
   "outputs": [
    {
     "data": {
      "text/plain": [
       "(5000, 16)"
      ]
     },
     "execution_count": 79,
     "metadata": {},
     "output_type": "execute_result"
    }
   ],
   "source": [
    "sales.shape"
   ]
  },
  {
   "cell_type": "code",
   "execution_count": 80,
   "metadata": {},
   "outputs": [
    {
     "name": "stdout",
     "output_type": "stream",
     "text": [
      "<class 'pandas.core.frame.DataFrame'>\n",
      "RangeIndex: 5000 entries, 0 to 4999\n",
      "Data columns (total 16 columns):\n",
      " #   Column            Non-Null Count  Dtype \n",
      "---  ------            --------------  ----- \n",
      " 0   Date              5000 non-null   object\n",
      " 1   Day               5000 non-null   int64 \n",
      " 2   Month             5000 non-null   object\n",
      " 3   Year              5000 non-null   int64 \n",
      " 4   Customer_Age      5000 non-null   int64 \n",
      " 5   Customer_Gender   5000 non-null   object\n",
      " 6   Country           5000 non-null   object\n",
      " 7   State             5000 non-null   object\n",
      " 8   Product_Category  5000 non-null   object\n",
      " 9   Sub_Category      5000 non-null   object\n",
      " 10  Product           5000 non-null   object\n",
      " 11  Order_Quantity    5000 non-null   int64 \n",
      " 12  Unit_Cost         5000 non-null   int64 \n",
      " 13  Unit_Price        5000 non-null   int64 \n",
      " 14  Profit            5000 non-null   int64 \n",
      " 15  Revenue           5000 non-null   int64 \n",
      "dtypes: int64(8), object(8)\n",
      "memory usage: 625.1+ KB\n"
     ]
    }
   ],
   "source": [
    "sales.info()"
   ]
  },
  {
   "cell_type": "code",
   "execution_count": 5,
   "metadata": {},
   "outputs": [
    {
     "data": {
      "text/html": [
       "<div>\n",
       "<style scoped>\n",
       "    .dataframe tbody tr th:only-of-type {\n",
       "        vertical-align: middle;\n",
       "    }\n",
       "\n",
       "    .dataframe tbody tr th {\n",
       "        vertical-align: top;\n",
       "    }\n",
       "\n",
       "    .dataframe thead th {\n",
       "        text-align: right;\n",
       "    }\n",
       "</style>\n",
       "<table border=\"1\" class=\"dataframe\">\n",
       "  <thead>\n",
       "    <tr style=\"text-align: right;\">\n",
       "      <th></th>\n",
       "      <th>Date</th>\n",
       "      <th>Day</th>\n",
       "      <th>Month</th>\n",
       "      <th>Year</th>\n",
       "      <th>Customer_Age</th>\n",
       "      <th>Customer_Gender</th>\n",
       "      <th>Country</th>\n",
       "      <th>State</th>\n",
       "      <th>Product_Category</th>\n",
       "      <th>Sub_Category</th>\n",
       "      <th>Product</th>\n",
       "      <th>Order_Quantity</th>\n",
       "      <th>Unit_Cost</th>\n",
       "      <th>Unit_Price</th>\n",
       "      <th>Profit</th>\n",
       "      <th>Revenue</th>\n",
       "    </tr>\n",
       "  </thead>\n",
       "  <tbody>\n",
       "    <tr>\n",
       "      <th>0</th>\n",
       "      <td>2014-03-05</td>\n",
       "      <td>5</td>\n",
       "      <td>March</td>\n",
       "      <td>2014</td>\n",
       "      <td>34</td>\n",
       "      <td>M</td>\n",
       "      <td>United States</td>\n",
       "      <td>California</td>\n",
       "      <td>Accessories</td>\n",
       "      <td>Fenders</td>\n",
       "      <td>Fender Set - Mountain</td>\n",
       "      <td>27</td>\n",
       "      <td>8</td>\n",
       "      <td>22</td>\n",
       "      <td>366</td>\n",
       "      <td>582</td>\n",
       "    </tr>\n",
       "    <tr>\n",
       "      <th>1</th>\n",
       "      <td>2013-08-18</td>\n",
       "      <td>18</td>\n",
       "      <td>August</td>\n",
       "      <td>2013</td>\n",
       "      <td>31</td>\n",
       "      <td>F</td>\n",
       "      <td>Canada</td>\n",
       "      <td>British Columbia</td>\n",
       "      <td>Clothing</td>\n",
       "      <td>Vests</td>\n",
       "      <td>Classic Vest, L</td>\n",
       "      <td>13</td>\n",
       "      <td>24</td>\n",
       "      <td>64</td>\n",
       "      <td>512</td>\n",
       "      <td>824</td>\n",
       "    </tr>\n",
       "    <tr>\n",
       "      <th>2</th>\n",
       "      <td>2014-02-04</td>\n",
       "      <td>4</td>\n",
       "      <td>February</td>\n",
       "      <td>2014</td>\n",
       "      <td>31</td>\n",
       "      <td>F</td>\n",
       "      <td>United States</td>\n",
       "      <td>Washington</td>\n",
       "      <td>Bikes</td>\n",
       "      <td>Touring Bikes</td>\n",
       "      <td>Touring-1000 Yellow, 54</td>\n",
       "      <td>1</td>\n",
       "      <td>1482</td>\n",
       "      <td>2384</td>\n",
       "      <td>378</td>\n",
       "      <td>1860</td>\n",
       "    </tr>\n",
       "    <tr>\n",
       "      <th>3</th>\n",
       "      <td>2013-09-09</td>\n",
       "      <td>9</td>\n",
       "      <td>September</td>\n",
       "      <td>2013</td>\n",
       "      <td>33</td>\n",
       "      <td>M</td>\n",
       "      <td>Australia</td>\n",
       "      <td>Victoria</td>\n",
       "      <td>Accessories</td>\n",
       "      <td>Tires and Tubes</td>\n",
       "      <td>LL Road Tire</td>\n",
       "      <td>25</td>\n",
       "      <td>8</td>\n",
       "      <td>21</td>\n",
       "      <td>215</td>\n",
       "      <td>415</td>\n",
       "    </tr>\n",
       "    <tr>\n",
       "      <th>4</th>\n",
       "      <td>2016-05-16</td>\n",
       "      <td>16</td>\n",
       "      <td>May</td>\n",
       "      <td>2016</td>\n",
       "      <td>35</td>\n",
       "      <td>F</td>\n",
       "      <td>United States</td>\n",
       "      <td>Washington</td>\n",
       "      <td>Accessories</td>\n",
       "      <td>Tires and Tubes</td>\n",
       "      <td>Mountain Tire Tube</td>\n",
       "      <td>28</td>\n",
       "      <td>2</td>\n",
       "      <td>5</td>\n",
       "      <td>53</td>\n",
       "      <td>109</td>\n",
       "    </tr>\n",
       "  </tbody>\n",
       "</table>\n",
       "</div>"
      ],
      "text/plain": [
       "         Date  Day      Month  Year  Customer_Age Customer_Gender  \\\n",
       "0  2014-03-05    5      March  2014            34               M   \n",
       "1  2013-08-18   18     August  2013            31               F   \n",
       "2  2014-02-04    4   February  2014            31               F   \n",
       "3  2013-09-09    9  September  2013            33               M   \n",
       "4  2016-05-16   16        May  2016            35               F   \n",
       "\n",
       "         Country             State Product_Category     Sub_Category  \\\n",
       "0  United States        California      Accessories          Fenders   \n",
       "1         Canada  British Columbia         Clothing            Vests   \n",
       "2  United States        Washington            Bikes    Touring Bikes   \n",
       "3      Australia          Victoria      Accessories  Tires and Tubes   \n",
       "4  United States        Washington      Accessories  Tires and Tubes   \n",
       "\n",
       "                   Product  Order_Quantity  Unit_Cost  Unit_Price  Profit  \\\n",
       "0    Fender Set - Mountain              27          8          22     366   \n",
       "1          Classic Vest, L              13         24          64     512   \n",
       "2  Touring-1000 Yellow, 54               1       1482        2384     378   \n",
       "3             LL Road Tire              25          8          21     215   \n",
       "4       Mountain Tire Tube              28          2           5      53   \n",
       "\n",
       "   Revenue  \n",
       "0      582  \n",
       "1      824  \n",
       "2     1860  \n",
       "3      415  \n",
       "4      109  "
      ]
     },
     "execution_count": 5,
     "metadata": {},
     "output_type": "execute_result"
    }
   ],
   "source": [
    "sales.head()"
   ]
  },
  {
   "cell_type": "code",
   "execution_count": 6,
   "metadata": {},
   "outputs": [
    {
     "data": {
      "text/html": [
       "<div>\n",
       "<style scoped>\n",
       "    .dataframe tbody tr th:only-of-type {\n",
       "        vertical-align: middle;\n",
       "    }\n",
       "\n",
       "    .dataframe tbody tr th {\n",
       "        vertical-align: top;\n",
       "    }\n",
       "\n",
       "    .dataframe thead th {\n",
       "        text-align: right;\n",
       "    }\n",
       "</style>\n",
       "<table border=\"1\" class=\"dataframe\">\n",
       "  <thead>\n",
       "    <tr style=\"text-align: right;\">\n",
       "      <th></th>\n",
       "      <th>Date</th>\n",
       "      <th>Day</th>\n",
       "      <th>Month</th>\n",
       "      <th>Year</th>\n",
       "      <th>Customer_Age</th>\n",
       "      <th>Customer_Gender</th>\n",
       "      <th>Country</th>\n",
       "      <th>State</th>\n",
       "      <th>Product_Category</th>\n",
       "      <th>Sub_Category</th>\n",
       "      <th>Product</th>\n",
       "      <th>Order_Quantity</th>\n",
       "      <th>Unit_Cost</th>\n",
       "      <th>Unit_Price</th>\n",
       "      <th>Profit</th>\n",
       "      <th>Revenue</th>\n",
       "    </tr>\n",
       "  </thead>\n",
       "  <tbody>\n",
       "    <tr>\n",
       "      <th>4995</th>\n",
       "      <td>2014-01-27</td>\n",
       "      <td>27</td>\n",
       "      <td>January</td>\n",
       "      <td>2014</td>\n",
       "      <td>34</td>\n",
       "      <td>M</td>\n",
       "      <td>United States</td>\n",
       "      <td>California</td>\n",
       "      <td>Accessories</td>\n",
       "      <td>Bottles and Cages</td>\n",
       "      <td>Water Bottle - 30 oz.</td>\n",
       "      <td>20</td>\n",
       "      <td>2</td>\n",
       "      <td>5</td>\n",
       "      <td>58</td>\n",
       "      <td>98</td>\n",
       "    </tr>\n",
       "    <tr>\n",
       "      <th>4996</th>\n",
       "      <td>2014-07-14</td>\n",
       "      <td>14</td>\n",
       "      <td>July</td>\n",
       "      <td>2014</td>\n",
       "      <td>17</td>\n",
       "      <td>M</td>\n",
       "      <td>France</td>\n",
       "      <td>Val d'Oise</td>\n",
       "      <td>Clothing</td>\n",
       "      <td>Caps</td>\n",
       "      <td>AWC Logo Cap</td>\n",
       "      <td>12</td>\n",
       "      <td>7</td>\n",
       "      <td>9</td>\n",
       "      <td>1</td>\n",
       "      <td>85</td>\n",
       "    </tr>\n",
       "    <tr>\n",
       "      <th>4997</th>\n",
       "      <td>2013-12-30</td>\n",
       "      <td>30</td>\n",
       "      <td>December</td>\n",
       "      <td>2013</td>\n",
       "      <td>25</td>\n",
       "      <td>F</td>\n",
       "      <td>Canada</td>\n",
       "      <td>British Columbia</td>\n",
       "      <td>Accessories</td>\n",
       "      <td>Helmets</td>\n",
       "      <td>Sport-100 Helmet, Blue</td>\n",
       "      <td>20</td>\n",
       "      <td>13</td>\n",
       "      <td>35</td>\n",
       "      <td>433</td>\n",
       "      <td>693</td>\n",
       "    </tr>\n",
       "    <tr>\n",
       "      <th>4998</th>\n",
       "      <td>2016-01-06</td>\n",
       "      <td>6</td>\n",
       "      <td>January</td>\n",
       "      <td>2016</td>\n",
       "      <td>57</td>\n",
       "      <td>M</td>\n",
       "      <td>Canada</td>\n",
       "      <td>British Columbia</td>\n",
       "      <td>Accessories</td>\n",
       "      <td>Tires and Tubes</td>\n",
       "      <td>Patch Kit/8 Patches</td>\n",
       "      <td>16</td>\n",
       "      <td>1</td>\n",
       "      <td>2</td>\n",
       "      <td>16</td>\n",
       "      <td>32</td>\n",
       "    </tr>\n",
       "    <tr>\n",
       "      <th>4999</th>\n",
       "      <td>2014-03-09</td>\n",
       "      <td>9</td>\n",
       "      <td>March</td>\n",
       "      <td>2014</td>\n",
       "      <td>50</td>\n",
       "      <td>F</td>\n",
       "      <td>Australia</td>\n",
       "      <td>Queensland</td>\n",
       "      <td>Accessories</td>\n",
       "      <td>Tires and Tubes</td>\n",
       "      <td>Patch Kit/8 Patches</td>\n",
       "      <td>15</td>\n",
       "      <td>1</td>\n",
       "      <td>2</td>\n",
       "      <td>10</td>\n",
       "      <td>25</td>\n",
       "    </tr>\n",
       "  </tbody>\n",
       "</table>\n",
       "</div>"
      ],
      "text/plain": [
       "            Date  Day     Month  Year  Customer_Age Customer_Gender  \\\n",
       "4995  2014-01-27   27   January  2014            34               M   \n",
       "4996  2014-07-14   14      July  2014            17               M   \n",
       "4997  2013-12-30   30  December  2013            25               F   \n",
       "4998  2016-01-06    6   January  2016            57               M   \n",
       "4999  2014-03-09    9     March  2014            50               F   \n",
       "\n",
       "            Country             State Product_Category       Sub_Category  \\\n",
       "4995  United States        California      Accessories  Bottles and Cages   \n",
       "4996         France        Val d'Oise         Clothing               Caps   \n",
       "4997         Canada  British Columbia      Accessories            Helmets   \n",
       "4998         Canada  British Columbia      Accessories    Tires and Tubes   \n",
       "4999      Australia        Queensland      Accessories    Tires and Tubes   \n",
       "\n",
       "                     Product  Order_Quantity  Unit_Cost  Unit_Price  Profit  \\\n",
       "4995   Water Bottle - 30 oz.              20          2           5      58   \n",
       "4996            AWC Logo Cap              12          7           9       1   \n",
       "4997  Sport-100 Helmet, Blue              20         13          35     433   \n",
       "4998     Patch Kit/8 Patches              16          1           2      16   \n",
       "4999     Patch Kit/8 Patches              15          1           2      10   \n",
       "\n",
       "      Revenue  \n",
       "4995       98  \n",
       "4996       85  \n",
       "4997      693  \n",
       "4998       32  \n",
       "4999       25  "
      ]
     },
     "execution_count": 6,
     "metadata": {},
     "output_type": "execute_result"
    }
   ],
   "source": [
    "sales.tail()"
   ]
  },
  {
   "cell_type": "markdown",
   "metadata": {},
   "source": [
    "![green-divider](https://user-images.githubusercontent.com/7065401/52071924-c003ad80-2562-11e9-8297-1c6595f8a7ff.png)\n",
    "\n",
    "### Fixing column types\n",
    "\n",
    "- Cast `Date` to `datetime`.\n",
    "- Cast `Customer_Gender`, `Country`, `State`, `Product_Category` and `Sub_Category` to `category`."
   ]
  },
  {
   "cell_type": "code",
   "execution_count": 82,
   "metadata": {},
   "outputs": [],
   "source": [
    "# your code goes here\n",
    "# datetime\n",
    "sales['Date'] = pd.to_datetime(sales['Date'])\n",
    "# category\n",
    "for col in [['Customer_Gender', 'Country', 'State', 'Product_Category', 'Sub_Category']]:\n",
    "    sales[col] = sales[col].astype('category')\n"
   ]
  },
  {
   "cell_type": "markdown",
   "metadata": {},
   "source": [
    "![green-divider](https://user-images.githubusercontent.com/7065401/52071924-c003ad80-2562-11e9-8297-1c6595f8a7ff.png)\n",
    "\n",
    "### Get a summary of the main statistics of the whole data"
   ]
  },
  {
   "cell_type": "code",
   "execution_count": 83,
   "metadata": {},
   "outputs": [
    {
     "data": {
      "text/html": [
       "<div>\n",
       "<style scoped>\n",
       "    .dataframe tbody tr th:only-of-type {\n",
       "        vertical-align: middle;\n",
       "    }\n",
       "\n",
       "    .dataframe tbody tr th {\n",
       "        vertical-align: top;\n",
       "    }\n",
       "\n",
       "    .dataframe thead th {\n",
       "        text-align: right;\n",
       "    }\n",
       "</style>\n",
       "<table border=\"1\" class=\"dataframe\">\n",
       "  <thead>\n",
       "    <tr style=\"text-align: right;\">\n",
       "      <th></th>\n",
       "      <th>Day</th>\n",
       "      <th>Year</th>\n",
       "      <th>Customer_Age</th>\n",
       "      <th>Order_Quantity</th>\n",
       "      <th>Unit_Cost</th>\n",
       "      <th>Unit_Price</th>\n",
       "      <th>Profit</th>\n",
       "      <th>Revenue</th>\n",
       "    </tr>\n",
       "  </thead>\n",
       "  <tbody>\n",
       "    <tr>\n",
       "      <th>count</th>\n",
       "      <td>5000.000000</td>\n",
       "      <td>5000.000000</td>\n",
       "      <td>5000.000000</td>\n",
       "      <td>5000.000000</td>\n",
       "      <td>5000.000000</td>\n",
       "      <td>5000.000000</td>\n",
       "      <td>5000.000000</td>\n",
       "      <td>5000.000000</td>\n",
       "    </tr>\n",
       "    <tr>\n",
       "      <th>mean</th>\n",
       "      <td>15.668800</td>\n",
       "      <td>2014.405000</td>\n",
       "      <td>35.933800</td>\n",
       "      <td>11.820400</td>\n",
       "      <td>278.415000</td>\n",
       "      <td>470.680600</td>\n",
       "      <td>291.653400</td>\n",
       "      <td>772.758000</td>\n",
       "    </tr>\n",
       "    <tr>\n",
       "      <th>std</th>\n",
       "      <td>8.797783</td>\n",
       "      <td>1.266055</td>\n",
       "      <td>11.087886</td>\n",
       "      <td>9.607841</td>\n",
       "      <td>562.721951</td>\n",
       "      <td>941.590529</td>\n",
       "      <td>457.359971</td>\n",
       "      <td>1306.052588</td>\n",
       "    </tr>\n",
       "    <tr>\n",
       "      <th>min</th>\n",
       "      <td>1.000000</td>\n",
       "      <td>2011.000000</td>\n",
       "      <td>17.000000</td>\n",
       "      <td>1.000000</td>\n",
       "      <td>1.000000</td>\n",
       "      <td>2.000000</td>\n",
       "      <td>-24.000000</td>\n",
       "      <td>2.000000</td>\n",
       "    </tr>\n",
       "    <tr>\n",
       "      <th>25%</th>\n",
       "      <td>8.000000</td>\n",
       "      <td>2013.000000</td>\n",
       "      <td>28.000000</td>\n",
       "      <td>2.000000</td>\n",
       "      <td>2.000000</td>\n",
       "      <td>5.000000</td>\n",
       "      <td>29.000000</td>\n",
       "      <td>64.000000</td>\n",
       "    </tr>\n",
       "    <tr>\n",
       "      <th>50%</th>\n",
       "      <td>16.000000</td>\n",
       "      <td>2014.000000</td>\n",
       "      <td>35.000000</td>\n",
       "      <td>10.000000</td>\n",
       "      <td>9.000000</td>\n",
       "      <td>25.000000</td>\n",
       "      <td>103.000000</td>\n",
       "      <td>226.000000</td>\n",
       "    </tr>\n",
       "    <tr>\n",
       "      <th>75%</th>\n",
       "      <td>23.000000</td>\n",
       "      <td>2016.000000</td>\n",
       "      <td>43.000000</td>\n",
       "      <td>20.000000</td>\n",
       "      <td>42.000000</td>\n",
       "      <td>70.000000</td>\n",
       "      <td>367.000000</td>\n",
       "      <td>829.250000</td>\n",
       "    </tr>\n",
       "    <tr>\n",
       "      <th>max</th>\n",
       "      <td>31.000000</td>\n",
       "      <td>2016.000000</td>\n",
       "      <td>87.000000</td>\n",
       "      <td>32.000000</td>\n",
       "      <td>2171.000000</td>\n",
       "      <td>3578.000000</td>\n",
       "      <td>5342.000000</td>\n",
       "      <td>14026.000000</td>\n",
       "    </tr>\n",
       "  </tbody>\n",
       "</table>\n",
       "</div>"
      ],
      "text/plain": [
       "               Day         Year  Customer_Age  Order_Quantity    Unit_Cost  \\\n",
       "count  5000.000000  5000.000000   5000.000000     5000.000000  5000.000000   \n",
       "mean     15.668800  2014.405000     35.933800       11.820400   278.415000   \n",
       "std       8.797783     1.266055     11.087886        9.607841   562.721951   \n",
       "min       1.000000  2011.000000     17.000000        1.000000     1.000000   \n",
       "25%       8.000000  2013.000000     28.000000        2.000000     2.000000   \n",
       "50%      16.000000  2014.000000     35.000000       10.000000     9.000000   \n",
       "75%      23.000000  2016.000000     43.000000       20.000000    42.000000   \n",
       "max      31.000000  2016.000000     87.000000       32.000000  2171.000000   \n",
       "\n",
       "        Unit_Price       Profit       Revenue  \n",
       "count  5000.000000  5000.000000   5000.000000  \n",
       "mean    470.680600   291.653400    772.758000  \n",
       "std     941.590529   457.359971   1306.052588  \n",
       "min       2.000000   -24.000000      2.000000  \n",
       "25%       5.000000    29.000000     64.000000  \n",
       "50%      25.000000   103.000000    226.000000  \n",
       "75%      70.000000   367.000000    829.250000  \n",
       "max    3578.000000  5342.000000  14026.000000  "
      ]
     },
     "execution_count": 83,
     "metadata": {},
     "output_type": "execute_result"
    }
   ],
   "source": [
    "# your code goes here\n",
    "sales.describe()"
   ]
  },
  {
   "cell_type": "markdown",
   "metadata": {},
   "source": [
    "![green-divider](https://user-images.githubusercontent.com/7065401/52071924-c003ad80-2562-11e9-8297-1c6595f8a7ff.png)\n",
    "\n",
    "### What's the mean of `Customers_Age`?"
   ]
  },
  {
   "cell_type": "code",
   "execution_count": 84,
   "metadata": {},
   "outputs": [
    {
     "data": {
      "text/plain": [
       "35.9338"
      ]
     },
     "execution_count": 84,
     "metadata": {},
     "output_type": "execute_result"
    }
   ],
   "source": [
    "# your code goes here\n",
    "sales['Customer_Age'].mean()"
   ]
  },
  {
   "cell_type": "markdown",
   "metadata": {},
   "source": [
    "Go ahead and show a <b>density (KDE)</b> and a <b>box plot</b> with the `Customer_Age` data:"
   ]
  },
  {
   "cell_type": "code",
   "execution_count": 99,
   "metadata": {},
   "outputs": [
    {
     "data": {
      "text/plain": [
       "<AxesSubplot:ylabel='Density'>"
      ]
     },
     "execution_count": 99,
     "metadata": {},
     "output_type": "execute_result"
    },
    {
     "data": {
      "image/png": "[encoded data removed]",
      "text/plain": [
       "<Figure size 1008x432 with 1 Axes>"
      ]
     },
     "metadata": {
      "needs_background": "light"
     },
     "output_type": "display_data"
    }
   ],
   "source": [
    "# your code goes here\n",
    "# density (KDE) plot of Customer_Age\n",
    "sales['Customer_Age'].plot(kind='kde', figsize=(14,6))\n"
   ]
  },
  {
   "cell_type": "code",
   "execution_count": 100,
   "metadata": {},
   "outputs": [
    {
     "data": {
      "text/plain": [
       "<AxesSubplot:>"
      ]
     },
     "execution_count": 100,
     "metadata": {},
     "output_type": "execute_result"
    },
    {
     "data": {
      "image/png": "[encoded data removed]",
      "text/plain": [
       "<Figure size 1008x432 with 1 Axes>"
      ]
     },
     "metadata": {
      "needs_background": "light"
     },
     "output_type": "display_data"
    }
   ],
   "source": [
    "# box plot of Customer_Age\n",
    "sales['Customer_Age'].plot(kind='box', vert=False, figsize=(14,6))"
   ]
  },
  {
   "cell_type": "markdown",
   "metadata": {},
   "source": [
    "![green-divider](https://user-images.githubusercontent.com/7065401/52071924-c003ad80-2562-11e9-8297-1c6595f8a7ff.png)\n",
    "\n",
    "### What's the mean of `Order_Quantity`?"
   ]
  },
  {
   "cell_type": "code",
   "execution_count": 89,
   "metadata": {},
   "outputs": [
    {
     "data": {
      "text/plain": [
       "11.8204"
      ]
     },
     "execution_count": 89,
     "metadata": {},
     "output_type": "execute_result"
    }
   ],
   "source": [
    "# your code goes here\n",
    "sales['Order_Quantity'].mean()"
   ]
  },
  {
   "cell_type": "markdown",
   "metadata": {},
   "source": [
    "Go ahead and show a <b>histogram</b> and a <b>box plot</b> with the `Order_Quantity` data:"
   ]
  },
  {
   "cell_type": "code",
   "execution_count": 103,
   "metadata": {},
   "outputs": [
    {
     "data": {
      "text/plain": [
       "<AxesSubplot:ylabel='Frequency'>"
      ]
     },
     "execution_count": 103,
     "metadata": {},
     "output_type": "execute_result"
    },
    {
     "data": {
      "image/png": "[encoded data removed]",
      "text/plain": [
       "<Figure size 1008x432 with 1 Axes>"
      ]
     },
     "metadata": {
      "needs_background": "light"
     },
     "output_type": "display_data"
    }
   ],
   "source": [
    "# your code goes here\n",
    "# histogram plot of Order_Quantity\n",
    "sales['Order_Quantity'].plot(kind='hist', bins=30, rwidth=0.85, figsize=(14,6))"
   ]
  },
  {
   "cell_type": "code",
   "execution_count": 104,
   "metadata": {},
   "outputs": [
    {
     "data": {
      "text/plain": [
       "<AxesSubplot:>"
      ]
     },
     "execution_count": 104,
     "metadata": {},
     "output_type": "execute_result"
    },
    {
     "data": {
      "image/png": "[encoded data removed]",
      "text/plain": [
       "<Figure size 1008x432 with 1 Axes>"
      ]
     },
     "metadata": {
      "needs_background": "light"
     },
     "output_type": "display_data"
    }
   ],
   "source": [
    "# box plot of Order_Quantity\n",
    "sales['Order_Quantity'].plot(kind='box', vert=False, figsize=(14,6))"
   ]
  },
  {
   "cell_type": "markdown",
   "metadata": {},
   "source": [
    "![green-divider](https://user-images.githubusercontent.com/7065401/52071924-c003ad80-2562-11e9-8297-1c6595f8a7ff.png)\n",
    "\n",
    "### In which countries were sales made?"
   ]
  },
  {
   "cell_type": "code",
   "execution_count": 97,
   "metadata": {},
   "outputs": [
    {
     "data": {
      "text/plain": [
       "['United States', 'Canada', 'Australia', 'United Kingdom', 'Germany', 'France']\n",
       "Categories (6, object): ['Australia', 'Canada', 'France', 'Germany', 'United Kingdom', 'United States']"
      ]
     },
     "execution_count": 97,
     "metadata": {},
     "output_type": "execute_result"
    }
   ],
   "source": [
    "# your code goes here\n",
    "sales['Country'].unique()\n"
   ]
  },
  {
   "cell_type": "markdown",
   "metadata": {},
   "source": [
    "![green-divider](https://user-images.githubusercontent.com/7065401/52071924-c003ad80-2562-11e9-8297-1c6595f8a7ff.png)\n",
    "\n",
    "### Sort sales by year\n",
    "\n",
    "Older sales should be at the bottom."
   ]
  },
  {
   "cell_type": "code",
   "execution_count": 110,
   "metadata": {},
   "outputs": [
    {
     "data": {
      "text/html": [
       "<div>\n",
       "<style scoped>\n",
       "    .dataframe tbody tr th:only-of-type {\n",
       "        vertical-align: middle;\n",
       "    }\n",
       "\n",
       "    .dataframe tbody tr th {\n",
       "        vertical-align: top;\n",
       "    }\n",
       "\n",
       "    .dataframe thead th {\n",
       "        text-align: right;\n",
       "    }\n",
       "</style>\n",
       "<table border=\"1\" class=\"dataframe\">\n",
       "  <thead>\n",
       "    <tr style=\"text-align: right;\">\n",
       "      <th></th>\n",
       "      <th>Date</th>\n",
       "      <th>Day</th>\n",
       "      <th>Month</th>\n",
       "      <th>Year</th>\n",
       "      <th>Customer_Age</th>\n",
       "      <th>Customer_Gender</th>\n",
       "      <th>Country</th>\n",
       "      <th>State</th>\n",
       "      <th>Product_Category</th>\n",
       "      <th>Sub_Category</th>\n",
       "      <th>Product</th>\n",
       "      <th>Order_Quantity</th>\n",
       "      <th>Unit_Cost</th>\n",
       "      <th>Unit_Price</th>\n",
       "      <th>Profit</th>\n",
       "      <th>Revenue</th>\n",
       "    </tr>\n",
       "  </thead>\n",
       "  <tbody>\n",
       "    <tr>\n",
       "      <th>3962</th>\n",
       "      <td>2016-07-19</td>\n",
       "      <td>19</td>\n",
       "      <td>July</td>\n",
       "      <td>2016</td>\n",
       "      <td>37</td>\n",
       "      <td>F</td>\n",
       "      <td>United States</td>\n",
       "      <td>California</td>\n",
       "      <td>Accessories</td>\n",
       "      <td>Helmets</td>\n",
       "      <td>Sport-100 Helmet, Red</td>\n",
       "      <td>25</td>\n",
       "      <td>13</td>\n",
       "      <td>35</td>\n",
       "      <td>533</td>\n",
       "      <td>858</td>\n",
       "    </tr>\n",
       "    <tr>\n",
       "      <th>2190</th>\n",
       "      <td>2016-02-01</td>\n",
       "      <td>1</td>\n",
       "      <td>February</td>\n",
       "      <td>2016</td>\n",
       "      <td>30</td>\n",
       "      <td>M</td>\n",
       "      <td>Canada</td>\n",
       "      <td>British Columbia</td>\n",
       "      <td>Clothing</td>\n",
       "      <td>Gloves</td>\n",
       "      <td>Half-Finger Gloves, L</td>\n",
       "      <td>14</td>\n",
       "      <td>9</td>\n",
       "      <td>24</td>\n",
       "      <td>207</td>\n",
       "      <td>333</td>\n",
       "    </tr>\n",
       "    <tr>\n",
       "      <th>2175</th>\n",
       "      <td>2016-03-22</td>\n",
       "      <td>22</td>\n",
       "      <td>March</td>\n",
       "      <td>2016</td>\n",
       "      <td>61</td>\n",
       "      <td>F</td>\n",
       "      <td>Australia</td>\n",
       "      <td>New South Wales</td>\n",
       "      <td>Accessories</td>\n",
       "      <td>Tires and Tubes</td>\n",
       "      <td>LL Road Tire</td>\n",
       "      <td>5</td>\n",
       "      <td>8</td>\n",
       "      <td>21</td>\n",
       "      <td>51</td>\n",
       "      <td>91</td>\n",
       "    </tr>\n",
       "    <tr>\n",
       "      <th>2178</th>\n",
       "      <td>2016-01-26</td>\n",
       "      <td>26</td>\n",
       "      <td>January</td>\n",
       "      <td>2016</td>\n",
       "      <td>35</td>\n",
       "      <td>M</td>\n",
       "      <td>Germany</td>\n",
       "      <td>Bayern</td>\n",
       "      <td>Accessories</td>\n",
       "      <td>Tires and Tubes</td>\n",
       "      <td>Road Tire Tube</td>\n",
       "      <td>4</td>\n",
       "      <td>1</td>\n",
       "      <td>4</td>\n",
       "      <td>12</td>\n",
       "      <td>16</td>\n",
       "    </tr>\n",
       "    <tr>\n",
       "      <th>2261</th>\n",
       "      <td>2016-01-21</td>\n",
       "      <td>21</td>\n",
       "      <td>January</td>\n",
       "      <td>2016</td>\n",
       "      <td>39</td>\n",
       "      <td>M</td>\n",
       "      <td>Australia</td>\n",
       "      <td>New South Wales</td>\n",
       "      <td>Clothing</td>\n",
       "      <td>Vests</td>\n",
       "      <td>Classic Vest, M</td>\n",
       "      <td>4</td>\n",
       "      <td>24</td>\n",
       "      <td>64</td>\n",
       "      <td>127</td>\n",
       "      <td>223</td>\n",
       "    </tr>\n",
       "  </tbody>\n",
       "</table>\n",
       "</div>"
      ],
      "text/plain": [
       "           Date  Day     Month  Year  Customer_Age Customer_Gender  \\\n",
       "3962 2016-07-19   19      July  2016            37               F   \n",
       "2190 2016-02-01    1  February  2016            30               M   \n",
       "2175 2016-03-22   22     March  2016            61               F   \n",
       "2178 2016-01-26   26   January  2016            35               M   \n",
       "2261 2016-01-21   21   January  2016            39               M   \n",
       "\n",
       "            Country             State Product_Category     Sub_Category  \\\n",
       "3962  United States        California      Accessories          Helmets   \n",
       "2190         Canada  British Columbia         Clothing           Gloves   \n",
       "2175      Australia   New South Wales      Accessories  Tires and Tubes   \n",
       "2178        Germany            Bayern      Accessories  Tires and Tubes   \n",
       "2261      Australia   New South Wales         Clothing            Vests   \n",
       "\n",
       "                    Product  Order_Quantity  Unit_Cost  Unit_Price  Profit  \\\n",
       "3962  Sport-100 Helmet, Red              25         13          35     533   \n",
       "2190  Half-Finger Gloves, L              14          9          24     207   \n",
       "2175           LL Road Tire               5          8          21      51   \n",
       "2178         Road Tire Tube               4          1           4      12   \n",
       "2261        Classic Vest, M               4         24          64     127   \n",
       "\n",
       "      Revenue  \n",
       "3962      858  \n",
       "2190      333  \n",
       "2175       91  \n",
       "2178       16  \n",
       "2261      223  "
      ]
     },
     "execution_count": 110,
     "metadata": {},
     "output_type": "execute_result"
    }
   ],
   "source": [
    "# your code goes here\n",
    "sales.sort_values(['Year'], ascending=False, inplace=True)\n",
    "sales.head()"
   ]
  },
  {
   "cell_type": "markdown",
   "metadata": {},
   "source": [
    "![green-divider](https://user-images.githubusercontent.com/7065401/52071924-c003ad80-2562-11e9-8297-1c6595f8a7ff.png)\n",
    "\n",
    "### Reset the current index\n",
    "\n",
    "Don't keep the old index."
   ]
  },
  {
   "cell_type": "code",
   "execution_count": 111,
   "metadata": {},
   "outputs": [
    {
     "data": {
      "text/html": [
       "<div>\n",
       "<style scoped>\n",
       "    .dataframe tbody tr th:only-of-type {\n",
       "        vertical-align: middle;\n",
       "    }\n",
       "\n",
       "    .dataframe tbody tr th {\n",
       "        vertical-align: top;\n",
       "    }\n",
       "\n",
       "    .dataframe thead th {\n",
       "        text-align: right;\n",
       "    }\n",
       "</style>\n",
       "<table border=\"1\" class=\"dataframe\">\n",
       "  <thead>\n",
       "    <tr style=\"text-align: right;\">\n",
       "      <th></th>\n",
       "      <th>Date</th>\n",
       "      <th>Day</th>\n",
       "      <th>Month</th>\n",
       "      <th>Year</th>\n",
       "      <th>Customer_Age</th>\n",
       "      <th>Customer_Gender</th>\n",
       "      <th>Country</th>\n",
       "      <th>State</th>\n",
       "      <th>Product_Category</th>\n",
       "      <th>Sub_Category</th>\n",
       "      <th>Product</th>\n",
       "      <th>Order_Quantity</th>\n",
       "      <th>Unit_Cost</th>\n",
       "      <th>Unit_Price</th>\n",
       "      <th>Profit</th>\n",
       "      <th>Revenue</th>\n",
       "    </tr>\n",
       "  </thead>\n",
       "  <tbody>\n",
       "    <tr>\n",
       "      <th>0</th>\n",
       "      <td>2016-07-19</td>\n",
       "      <td>19</td>\n",
       "      <td>July</td>\n",
       "      <td>2016</td>\n",
       "      <td>37</td>\n",
       "      <td>F</td>\n",
       "      <td>United States</td>\n",
       "      <td>California</td>\n",
       "      <td>Accessories</td>\n",
       "      <td>Helmets</td>\n",
       "      <td>Sport-100 Helmet, Red</td>\n",
       "      <td>25</td>\n",
       "      <td>13</td>\n",
       "      <td>35</td>\n",
       "      <td>533</td>\n",
       "      <td>858</td>\n",
       "    </tr>\n",
       "    <tr>\n",
       "      <th>1</th>\n",
       "      <td>2016-02-01</td>\n",
       "      <td>1</td>\n",
       "      <td>February</td>\n",
       "      <td>2016</td>\n",
       "      <td>30</td>\n",
       "      <td>M</td>\n",
       "      <td>Canada</td>\n",
       "      <td>British Columbia</td>\n",
       "      <td>Clothing</td>\n",
       "      <td>Gloves</td>\n",
       "      <td>Half-Finger Gloves, L</td>\n",
       "      <td>14</td>\n",
       "      <td>9</td>\n",
       "      <td>24</td>\n",
       "      <td>207</td>\n",
       "      <td>333</td>\n",
       "    </tr>\n",
       "    <tr>\n",
       "      <th>2</th>\n",
       "      <td>2016-03-22</td>\n",
       "      <td>22</td>\n",
       "      <td>March</td>\n",
       "      <td>2016</td>\n",
       "      <td>61</td>\n",
       "      <td>F</td>\n",
       "      <td>Australia</td>\n",
       "      <td>New South Wales</td>\n",
       "      <td>Accessories</td>\n",
       "      <td>Tires and Tubes</td>\n",
       "      <td>LL Road Tire</td>\n",
       "      <td>5</td>\n",
       "      <td>8</td>\n",
       "      <td>21</td>\n",
       "      <td>51</td>\n",
       "      <td>91</td>\n",
       "    </tr>\n",
       "    <tr>\n",
       "      <th>3</th>\n",
       "      <td>2016-01-26</td>\n",
       "      <td>26</td>\n",
       "      <td>January</td>\n",
       "      <td>2016</td>\n",
       "      <td>35</td>\n",
       "      <td>M</td>\n",
       "      <td>Germany</td>\n",
       "      <td>Bayern</td>\n",
       "      <td>Accessories</td>\n",
       "      <td>Tires and Tubes</td>\n",
       "      <td>Road Tire Tube</td>\n",
       "      <td>4</td>\n",
       "      <td>1</td>\n",
       "      <td>4</td>\n",
       "      <td>12</td>\n",
       "      <td>16</td>\n",
       "    </tr>\n",
       "    <tr>\n",
       "      <th>4</th>\n",
       "      <td>2016-01-21</td>\n",
       "      <td>21</td>\n",
       "      <td>January</td>\n",
       "      <td>2016</td>\n",
       "      <td>39</td>\n",
       "      <td>M</td>\n",
       "      <td>Australia</td>\n",
       "      <td>New South Wales</td>\n",
       "      <td>Clothing</td>\n",
       "      <td>Vests</td>\n",
       "      <td>Classic Vest, M</td>\n",
       "      <td>4</td>\n",
       "      <td>24</td>\n",
       "      <td>64</td>\n",
       "      <td>127</td>\n",
       "      <td>223</td>\n",
       "    </tr>\n",
       "  </tbody>\n",
       "</table>\n",
       "</div>"
      ],
      "text/plain": [
       "        Date  Day     Month  Year  Customer_Age Customer_Gender  \\\n",
       "0 2016-07-19   19      July  2016            37               F   \n",
       "1 2016-02-01    1  February  2016            30               M   \n",
       "2 2016-03-22   22     March  2016            61               F   \n",
       "3 2016-01-26   26   January  2016            35               M   \n",
       "4 2016-01-21   21   January  2016            39               M   \n",
       "\n",
       "         Country             State Product_Category     Sub_Category  \\\n",
       "0  United States        California      Accessories          Helmets   \n",
       "1         Canada  British Columbia         Clothing           Gloves   \n",
       "2      Australia   New South Wales      Accessories  Tires and Tubes   \n",
       "3        Germany            Bayern      Accessories  Tires and Tubes   \n",
       "4      Australia   New South Wales         Clothing            Vests   \n",
       "\n",
       "                 Product  Order_Quantity  Unit_Cost  Unit_Price  Profit  \\\n",
       "0  Sport-100 Helmet, Red              25         13          35     533   \n",
       "1  Half-Finger Gloves, L              14          9          24     207   \n",
       "2           LL Road Tire               5          8          21      51   \n",
       "3         Road Tire Tube               4          1           4      12   \n",
       "4        Classic Vest, M               4         24          64     127   \n",
       "\n",
       "   Revenue  \n",
       "0      858  \n",
       "1      333  \n",
       "2       91  \n",
       "3       16  \n",
       "4      223  "
      ]
     },
     "execution_count": 111,
     "metadata": {},
     "output_type": "execute_result"
    }
   ],
   "source": [
    "# your code goes here\n",
    "sales.reset_index(drop=True, inplace=True)\n",
    "sales.head()"
   ]
  },
  {
   "cell_type": "markdown",
   "metadata": {},
   "source": [
    "![green-divider](https://user-images.githubusercontent.com/7065401/52071924-c003ad80-2562-11e9-8297-1c6595f8a7ff.png)\n",
    "\n",
    "### How many sales per year do we have?"
   ]
  },
  {
   "cell_type": "code",
   "execution_count": null,
   "metadata": {},
   "outputs": [],
   "source": [
    "# your code goes here\n",
    "sales['Year'].value_counts()"
   ]
  },
  {
   "cell_type": "markdown",
   "metadata": {},
   "source": [
    "Go ahead and show a <b>pie plot</b> and a <b>bar plot</b> with the previous data:"
   ]
  },
  {
   "cell_type": "code",
   "execution_count": 112,
   "metadata": {},
   "outputs": [
    {
     "data": {
      "text/plain": [
       "<AxesSubplot:ylabel='Year'>"
      ]
     },
     "execution_count": 112,
     "metadata": {},
     "output_type": "execute_result"
    },
    {
     "data": {
      "image/png": "[encoded data removed]",
      "text/plain": [
       "<Figure size 432x432 with 1 Axes>"
      ]
     },
     "metadata": {},
     "output_type": "display_data"
    }
   ],
   "source": [
    "# your code goes here\n",
    "sales['Year'].value_counts().plot(kind='pie', figsize=(6,6))"
   ]
  },
  {
   "cell_type": "code",
   "execution_count": 113,
   "metadata": {},
   "outputs": [
    {
     "data": {
      "text/plain": [
       "<AxesSubplot:>"
      ]
     },
     "execution_count": 113,
     "metadata": {},
     "output_type": "execute_result"
    },
    {
     "data": {
      "image/png": "[encoded data removed]",
      "text/plain": [
       "<Figure size 1008x432 with 1 Axes>"
      ]
     },
     "metadata": {
      "needs_background": "light"
     },
     "output_type": "display_data"
    }
   ],
   "source": [
    "# your code goes here\n",
    "sales['Year'].value_counts().plot(kind='bar', figsize=(14,6))"
   ]
  },
  {
   "cell_type": "markdown",
   "metadata": {},
   "source": [
    "![green-divider](https://user-images.githubusercontent.com/7065401/52071924-c003ad80-2562-11e9-8297-1c6595f8a7ff.png)\n",
    "\n",
    "### Create a new `Cost` column\n",
    "\n",
    "This column should be:\n",
    "$$ Cost = Unit\\_Cost * Order\\_Quantity $$"
   ]
  },
  {
   "cell_type": "code",
   "execution_count": 117,
   "metadata": {},
   "outputs": [
    {
     "data": {
      "text/plain": [
       "0        325\n",
       "1        126\n",
       "2         40\n",
       "3          4\n",
       "4         96\n",
       "        ... \n",
       "4995    4665\n",
       "4996    1266\n",
       "4997    4665\n",
       "4998    2532\n",
       "4999    4665\n",
       "Name: Cost, Length: 5000, dtype: int64"
      ]
     },
     "execution_count": 117,
     "metadata": {},
     "output_type": "execute_result"
    }
   ],
   "source": [
    "# your code goes here\n",
    "sales['Cost'] = sales['Unit_Cost'] * sales['Order_Quantity']\n",
    "sales['Cost']"
   ]
  },
  {
   "cell_type": "markdown",
   "metadata": {},
   "source": [
    "![green-divider](https://user-images.githubusercontent.com/7065401/52071924-c003ad80-2562-11e9-8297-1c6595f8a7ff.png)\n",
    "\n",
    "### Create a new `YearMonth` column\n",
    "\n",
    "This new `YearMonth` column should be the concatenation of `Year` and `Month` columns, separated by a '-'."
   ]
  },
  {
   "cell_type": "code",
   "execution_count": 119,
   "metadata": {},
   "outputs": [
    {
     "data": {
      "text/plain": [
       "0           2016_July\n",
       "1       2016_February\n",
       "2          2016_March\n",
       "3        2016_January\n",
       "4        2016_January\n",
       "            ...      \n",
       "4995    2011_November\n",
       "4996     2011_October\n",
       "4997       2011_March\n",
       "4998       2011_April\n",
       "4999         2011_May\n",
       "Name: YearMonth, Length: 5000, dtype: object"
      ]
     },
     "execution_count": 119,
     "metadata": {},
     "output_type": "execute_result"
    }
   ],
   "source": [
    "# your code goes here\n",
    "sales['YearMonth'] = sales['Year'].astype('str') + '_' + sales['Month']\n",
    "sales['YearMonth']"
   ]
  },
  {
   "cell_type": "markdown",
   "metadata": {},
   "source": [
    "![green-divider](https://user-images.githubusercontent.com/7065401/52071924-c003ad80-2562-11e9-8297-1c6595f8a7ff.png)\n",
    "\n",
    "### How did sales evolve through the years?\n",
    "\n",
    "Count how many sales we have per `YearMonth`."
   ]
  },
  {
   "cell_type": "code",
   "execution_count": 121,
   "metadata": {},
   "outputs": [
    {
     "data": {
      "text/plain": [
       "2015_December    232\n",
       "2016_April       218\n",
       "2014_June        215\n",
       "2013_December    215\n",
       "2016_May         214\n",
       "                ... \n",
       "2012_December      7\n",
       "2012_February      6\n",
       "2011_February      6\n",
       "2011_June          6\n",
       "2012_March         4\n",
       "Name: YearMonth, Length: 62, dtype: int64"
      ]
     },
     "execution_count": 121,
     "metadata": {},
     "output_type": "execute_result"
    }
   ],
   "source": [
    "# your code goes here\n",
    "sales['YearMonth'].value_counts()"
   ]
  },
  {
   "cell_type": "markdown",
   "metadata": {},
   "source": [
    "Go ahead and show a <b>bar plot</b> with the previous data:"
   ]
  },
  {
   "cell_type": "code",
   "execution_count": 132,
   "metadata": {},
   "outputs": [
    {
     "data": {
      "text/plain": [
       "<AxesSubplot:>"
      ]
     },
     "execution_count": 132,
     "metadata": {},
     "output_type": "execute_result"
    },
    {
     "data": {
      "image/png": "[encoded data removed]",
      "text/plain": [
       "<Figure size 1152x432 with 1 Axes>"
      ]
     },
     "metadata": {
      "needs_background": "light"
     },
     "output_type": "display_data"
    }
   ],
   "source": [
    "# your code goes here\n",
    "sales['YearMonth'].value_counts().plot(kind='bar', figsize=(16,6))"
   ]
  },
  {
   "cell_type": "markdown",
   "metadata": {},
   "source": [
    "![green-divider](https://user-images.githubusercontent.com/7065401/52071924-c003ad80-2562-11e9-8297-1c6595f8a7ff.png)\n",
    "\n",
    "### Which country has the most sales `quantity of sales`?"
   ]
  },
  {
   "cell_type": "code",
   "execution_count": 155,
   "metadata": {},
   "outputs": [
    {
     "data": {
      "text/plain": [
       "United States    1700\n",
       "Name: Country, dtype: int64"
      ]
     },
     "execution_count": 155,
     "metadata": {},
     "output_type": "execute_result"
    }
   ],
   "source": [
    "# your code goes here\n",
    "sales['Country'].value_counts().head(1)"
   ]
  },
  {
   "cell_type": "markdown",
   "metadata": {},
   "source": [
    "Go ahead and show a <b>bar plot</b> of the sales per country:"
   ]
  },
  {
   "cell_type": "code",
   "execution_count": 146,
   "metadata": {},
   "outputs": [
    {
     "data": {
      "text/plain": [
       "<AxesSubplot:>"
      ]
     },
     "execution_count": 146,
     "metadata": {},
     "output_type": "execute_result"
    },
    {
     "data": {
      "image/png": "[encoded data removed]",
      "text/plain": [
       "<Figure size 1008x432 with 1 Axes>"
      ]
     },
     "metadata": {
      "needs_background": "light"
     },
     "output_type": "display_data"
    }
   ],
   "source": [
    "# your code goes here\n",
    "sales['Country'].value_counts().plot(kind='bar', figsize=(14,6))"
   ]
  },
  {
   "cell_type": "markdown",
   "metadata": {},
   "source": [
    "![green-divider](https://user-images.githubusercontent.com/7065401/52071924-c003ad80-2562-11e9-8297-1c6595f8a7ff.png)\n",
    "\n",
    "### Get a list of every product sold"
   ]
  },
  {
   "cell_type": "code",
   "execution_count": 162,
   "metadata": {},
   "outputs": [
    {
     "data": {
      "text/plain": [
       "array(['Sport-100 Helmet, Red', 'Half-Finger Gloves, L', 'LL Road Tire',\n",
       "       'Road Tire Tube', 'Classic Vest, M', 'Touring Tire Tube',\n",
       "       'Mountain-200 Silver, 38', 'Water Bottle - 30 oz.',\n",
       "       'Sport-100 Helmet, Blue', 'Half-Finger Gloves, S',\n",
       "       'Half-Finger Gloves, M', 'Mountain-500 Black, 42',\n",
       "       'Bike Wash - Dissolver', 'Long-Sleeve Logo Jersey, S',\n",
       "       \"Women's Mountain Shorts, M\", 'Patch Kit/8 Patches',\n",
       "       'Mountain Tire Tube', 'Sport-100 Helmet, Black',\n",
       "       'Mountain Bottle Cage', 'LL Mountain Tire', 'Racing Socks, L',\n",
       "       'AWC Logo Cap', 'Touring-1000 Blue, 46', 'Mountain-200 Black, 38',\n",
       "       'Road-650 Red, 60', 'HL Mountain Tire', 'Fender Set - Mountain',\n",
       "       'Road Bottle Cage', 'Short-Sleeve Classic Jersey, M',\n",
       "       'Road-250 Red, 48', 'Road-350-W Yellow, 42',\n",
       "       'Mountain-200 Silver, 46', 'Hydration Pack - 70 oz.',\n",
       "       'Road-350-W Yellow, 40', 'HL Road Tire', 'Mountain-500 Black, 44',\n",
       "       'ML Road Tire', 'Short-Sleeve Classic Jersey, L',\n",
       "       'Touring-1000 Yellow, 46', 'Road-750 Black, 44',\n",
       "       'All-Purpose Bike Stand', 'Mountain-200 Black, 42',\n",
       "       'Short-Sleeve Classic Jersey, XL', 'Classic Vest, L',\n",
       "       'Mountain-200 Silver, 42', 'Road-250 Black, 52',\n",
       "       'Mountain-400-W Silver, 42', 'Mountain-400-W Silver, 46',\n",
       "       'Touring Tire', 'Touring-2000 Blue, 50', 'Mountain-500 Black, 52',\n",
       "       'Road-150 Red, 62', 'Long-Sleeve Logo Jersey, XL',\n",
       "       'Mountain-100 Black, 44', 'Touring-1000 Yellow, 50',\n",
       "       'Road-750 Black, 48', 'Road-750 Black, 52', 'Road-150 Red, 52',\n",
       "       'ML Mountain Tire', 'Mountain-400-W Silver, 40',\n",
       "       'Touring-1000 Yellow, 54', 'Road-550-W Yellow, 42',\n",
       "       'Touring-1000 Blue, 60', 'Road-550-W Yellow, 44',\n",
       "       'Road-150 Red, 56', 'Touring-1000 Blue, 50',\n",
       "       'Road-550-W Yellow, 40', 'Touring-3000 Yellow, 44',\n",
       "       'Road-250 Red, 58', 'Touring-1000 Yellow, 60',\n",
       "       'Short-Sleeve Classic Jersey, S', 'Long-Sleeve Logo Jersey, L',\n",
       "       \"Women's Mountain Shorts, L\", 'Long-Sleeve Logo Jersey, M',\n",
       "       'Road-650 Black, 44', 'Road-150 Red, 44', 'Mountain-200 Black, 46',\n",
       "       'Classic Vest, S', 'Hitch Rack - 4-Bike',\n",
       "       'Mountain-500 Silver, 40', 'Racing Socks, M',\n",
       "       'Touring-3000 Yellow, 58', 'Road-650 Black, 48',\n",
       "       'Road-250 Black, 58', 'Road-250 Red, 44', 'Road-250 Black, 48',\n",
       "       'Road-550-W Yellow, 48', 'Road-550-W Yellow, 38',\n",
       "       'Touring-3000 Yellow, 50', 'Touring-3000 Blue, 54',\n",
       "       'Road-750 Black, 58', 'Touring-3000 Yellow, 54',\n",
       "       \"Women's Mountain Shorts, S\", 'Mountain-100 Silver, 44',\n",
       "       'Mountain-100 Black, 38', 'Touring-2000 Blue, 46',\n",
       "       'Touring-2000 Blue, 54', 'Touring-2000 Blue, 60',\n",
       "       'Touring-3000 Blue, 44', 'Road-350-W Yellow, 48',\n",
       "       'Road-650 Red, 52', 'Touring-3000 Blue, 62',\n",
       "       'Touring-1000 Blue, 54', 'Road-250 Red, 52', 'Road-650 Black, 60',\n",
       "       'Mountain-100 Black, 48', 'Road-250 Black, 44',\n",
       "       'Touring-3000 Yellow, 62', 'Mountain-100 Silver, 38',\n",
       "       'Road-650 Red, 44', 'Road-650 Red, 62', 'Mountain-500 Black, 40',\n",
       "       'Mountain-400-W Silver, 38', 'Touring-3000 Blue, 58',\n",
       "       'Road-350-W Yellow, 44', 'Mountain-100 Silver, 48',\n",
       "       'Road-650 Black, 62', 'Road-150 Red, 48', 'Road-650 Red, 48',\n",
       "       'Mountain-100 Black, 42', 'Road-650 Black, 58',\n",
       "       'Mountain-500 Silver, 44', 'Mountain-500 Black, 48',\n",
       "       'Road-650 Red, 58', 'Road-650 Black, 52',\n",
       "       'Mountain-500 Silver, 48', 'Touring-3000 Blue, 50',\n",
       "       'Mountain-500 Silver, 42', 'Mountain-500 Silver, 52',\n",
       "       'Mountain-100 Silver, 42'], dtype=object)"
      ]
     },
     "execution_count": 162,
     "metadata": {},
     "output_type": "execute_result"
    }
   ],
   "source": [
    "# your code goes here\n",
    "sales['Product'].unique()"
   ]
  },
  {
   "cell_type": "markdown",
   "metadata": {},
   "source": [
    "Create a **bar plot** showing the 10 most sold products (best sellers):"
   ]
  },
  {
   "cell_type": "code",
   "execution_count": 161,
   "metadata": {},
   "outputs": [
    {
     "data": {
      "text/plain": [
       "<AxesSubplot:>"
      ]
     },
     "execution_count": 161,
     "metadata": {},
     "output_type": "execute_result"
    },
    {
     "data": {
      "image/png": "[encoded data removed]",
      "text/plain": [
       "<Figure size 1008x432 with 1 Axes>"
      ]
     },
     "metadata": {
      "needs_background": "light"
     },
     "output_type": "display_data"
    }
   ],
   "source": [
    "# your code goes here\n",
    "sales['Product'].value_counts().head(10).plot(kind='bar', figsize=(14,6))"
   ]
  },
  {
   "cell_type": "markdown",
   "metadata": {},
   "source": [
    "![green-divider](https://user-images.githubusercontent.com/7065401/52071924-c003ad80-2562-11e9-8297-1c6595f8a7ff.png)\n",
    "\n",
    "### Can you see any relationship between `Unit_Cost` and `Unit_Price`?\n",
    "\n",
    "Show a <b>scatter plot</b> between both columns."
   ]
  },
  {
   "cell_type": "code",
   "execution_count": 169,
   "metadata": {},
   "outputs": [
    {
     "data": {
      "text/plain": [
       "<AxesSubplot:xlabel='Unit_Cost', ylabel='Unit_Price'>"
      ]
     },
     "execution_count": 169,
     "metadata": {},
     "output_type": "execute_result"
    },
    {
     "data": {
      "image/png": "[encoded data removed]",
      "text/plain": [
       "<Figure size 432x432 with 1 Axes>"
      ]
     },
     "metadata": {
      "needs_background": "light"
     },
     "output_type": "display_data"
    }
   ],
   "source": [
    "# your code goes here\n",
    "sales.plot(kind='scatter', x='Unit_Cost', y='Unit_Price', figsize=(6,6))"
   ]
  },
  {
   "cell_type": "markdown",
   "metadata": {},
   "source": [
    "![green-divider](https://user-images.githubusercontent.com/7065401/52071924-c003ad80-2562-11e9-8297-1c6595f8a7ff.png)\n",
    "\n",
    "### Can you see any relationship between `Order_Quantity` and `Profit`?\n",
    "\n",
    "Show a <b>scatter plot</b> between both columns."
   ]
  },
  {
   "cell_type": "code",
   "execution_count": 172,
   "metadata": {},
   "outputs": [
    {
     "data": {
      "text/plain": [
       "<AxesSubplot:xlabel='Order_Quantity', ylabel='Profit'>"
      ]
     },
     "execution_count": 172,
     "metadata": {},
     "output_type": "execute_result"
    },
    {
     "data": {
      "image/png": "[encoded data removed]",
      "text/plain": [
       "<Figure size 720x432 with 1 Axes>"
      ]
     },
     "metadata": {
      "needs_background": "light"
     },
     "output_type": "display_data"
    }
   ],
   "source": [
    "# your code goes here\n",
    "sales.plot(kind='scatter', x='Order_Quantity', y='Profit', figsize=(10,6))"
   ]
  },
  {
   "cell_type": "markdown",
   "metadata": {},
   "source": [
    "![green-divider](https://user-images.githubusercontent.com/7065401/52071924-c003ad80-2562-11e9-8297-1c6595f8a7ff.png)\n",
    "\n",
    "### Can you see any relationship between `Profit` per `Country`?\n",
    "\n",
    "Show a grouped <b>box plot</b> per country with the profit values."
   ]
  },
  {
   "cell_type": "code",
   "execution_count": 176,
   "metadata": {},
   "outputs": [
    {
     "data": {
      "text/plain": [
       "<AxesSubplot:title={'center':'Profit'}, xlabel='[Country]'>"
      ]
     },
     "execution_count": 176,
     "metadata": {},
     "output_type": "execute_result"
    },
    {
     "data": {
      "image/png": "[encoded data removed]",
      "text/plain": [
       "<Figure size 720x432 with 1 Axes>"
      ]
     },
     "metadata": {
      "needs_background": "light"
     },
     "output_type": "display_data"
    }
   ],
   "source": [
    "# your code goes here\n",
    "sales[['Profit', 'Country']].boxplot(by='Country', figsize=(10,6))"
   ]
  },
  {
   "cell_type": "markdown",
   "metadata": {},
   "source": [
    "![green-divider](https://user-images.githubusercontent.com/7065401/52071924-c003ad80-2562-11e9-8297-1c6595f8a7ff.png)\n",
    "\n",
    "### Can you see any relationship between the `Customer_Age` per `Country`?\n",
    "\n",
    "Show a grouped <b>box plot</b> per country with the customer age values."
   ]
  },
  {
   "cell_type": "code",
   "execution_count": 178,
   "metadata": {},
   "outputs": [
    {
     "data": {
      "text/plain": [
       "<AxesSubplot:title={'center':'Customer_Age'}, xlabel='[Country]'>"
      ]
     },
     "execution_count": 178,
     "metadata": {},
     "output_type": "execute_result"
    },
    {
     "data": {
      "image/png": "[encoded data removed]",
      "text/plain": [
       "<Figure size 720x432 with 1 Axes>"
      ]
     },
     "metadata": {
      "needs_background": "light"
     },
     "output_type": "display_data"
    }
   ],
   "source": [
    "# your code goes here\n",
    "sales[['Customer_Age','Country']].boxplot(by='Country', figsize=(10,6))"
   ]
  },
  {
   "cell_type": "markdown",
   "metadata": {},
   "source": [
    "![green-divider](https://user-images.githubusercontent.com/7065401/52071924-c003ad80-2562-11e9-8297-1c6595f8a7ff.png)\n",
    "\n",
    "### Increase 50 U$S revenue to every sale"
   ]
  },
  {
   "cell_type": "code",
   "execution_count": 180,
   "metadata": {},
   "outputs": [],
   "source": [
    "# your code goes here\n",
    "sales['Revenue'] += 50"
   ]
  },
  {
   "cell_type": "markdown",
   "metadata": {},
   "source": [
    "![green-divider](https://user-images.githubusercontent.com/7065401/52071924-c003ad80-2562-11e9-8297-1c6595f8a7ff.png)\n",
    "\n",
    "### How many orders were made in `Canada` or `France`?"
   ]
  },
  {
   "cell_type": "code",
   "execution_count": 188,
   "metadata": {},
   "outputs": [
    {
     "data": {
      "text/plain": [
       "1146"
      ]
     },
     "execution_count": 188,
     "metadata": {},
     "output_type": "execute_result"
    }
   ],
   "source": [
    "# your code goes here\n",
    "sales.loc[(sales['Country'] == 'Canada') | (sales['Country'] == 'France')].shape[0]"
   ]
  },
  {
   "cell_type": "markdown",
   "metadata": {},
   "source": [
    "![green-divider](https://user-images.githubusercontent.com/7065401/52071924-c003ad80-2562-11e9-8297-1c6595f8a7ff.png)\n",
    "\n",
    "### How many `Bike Racks` orders were made from Canada?"
   ]
  },
  {
   "cell_type": "code",
   "execution_count": 198,
   "metadata": {},
   "outputs": [
    {
     "data": {
      "text/plain": [
       "3"
      ]
     },
     "execution_count": 198,
     "metadata": {},
     "output_type": "execute_result"
    }
   ],
   "source": [
    "# your code goes here\n",
    "sales.loc[(sales['Country'] == 'Canada') & (sales['Sub_Category'] == 'Bike Racks')].shape[0]\n",
    "#sales.head()"
   ]
  },
  {
   "cell_type": "markdown",
   "metadata": {},
   "source": [
    "![green-divider](https://user-images.githubusercontent.com/7065401/52071924-c003ad80-2562-11e9-8297-1c6595f8a7ff.png)\n",
    "\n",
    "### How many orders were made in each region (state) of France?"
   ]
  },
  {
   "cell_type": "code",
   "execution_count": 208,
   "metadata": {},
   "outputs": [
    {
     "data": {
      "text/plain": [
       "Seine (Paris)          101\n",
       "Seine Saint Denis       87\n",
       "Nord                    76\n",
       "Yveline                 48\n",
       "Hauts de Seine          41\n",
       "Essonne                 40\n",
       "Seine et Marne          16\n",
       "Moselle                 16\n",
       "Loiret                  13\n",
       "Val d'Oise              11\n",
       "Garonne (Haute)         10\n",
       "Charente-Maritime       10\n",
       "Pas de Calais            6\n",
       "Val de Marne             5\n",
       "Loir et Cher             5\n",
       "Somme                    4\n",
       "South Australia          0\n",
       "Brandenburg              0\n",
       "California               0\n",
       "Tasmania                 0\n",
       "Texas                    0\n",
       "Saarland                 0\n",
       "Utah                     0\n",
       "Victoria                 0\n",
       "Washington               0\n",
       "British Columbia         0\n",
       "Ohio                     0\n",
       "Queensland               0\n",
       "Oregon                   0\n",
       "Nordrhein-Westfalen      0\n",
       "Bayern                   0\n",
       "New York                 0\n",
       "New South Wales          0\n",
       "Missouri                 0\n",
       "Kentucky                 0\n",
       "Hessen                   0\n",
       "Hamburg                  0\n",
       "Georgia                  0\n",
       "England                  0\n",
       "Alberta                  0\n",
       "Name: State, dtype: int64"
      ]
     },
     "execution_count": 208,
     "metadata": {},
     "output_type": "execute_result"
    }
   ],
   "source": [
    "# your code goes here\n",
    "sales.loc[sales['Country'] == 'France', 'State'].value_counts()"
   ]
  },
  {
   "cell_type": "markdown",
   "metadata": {},
   "source": [
    "Go ahead and show a <b>bar plot</b> with the results:"
   ]
  },
  {
   "cell_type": "code",
   "execution_count": 210,
   "metadata": {},
   "outputs": [
    {
     "data": {
      "text/plain": [
       "<AxesSubplot:>"
      ]
     },
     "execution_count": 210,
     "metadata": {},
     "output_type": "execute_result"
    },
    {
     "data": {
      "image/png": "[encoded data removed]",
      "text/plain": [
       "<Figure size 1152x288 with 1 Axes>"
      ]
     },
     "metadata": {
      "needs_background": "light"
     },
     "output_type": "display_data"
    }
   ],
   "source": [
    "# your code goes here\n",
    "sales.loc[sales['Country'] == 'France', 'State'].value_counts().plot(kind='bar', figsize=(16,4))"
   ]
  },
  {
   "cell_type": "markdown",
   "metadata": {},
   "source": [
    "![green-divider](https://user-images.githubusercontent.com/7065401/52071924-c003ad80-2562-11e9-8297-1c6595f8a7ff.png)\n",
    "\n",
    "### How many sales were made per category?"
   ]
  },
  {
   "cell_type": "code",
   "execution_count": 214,
   "metadata": {},
   "outputs": [
    {
     "data": {
      "text/plain": [
       "Accessories    3090\n",
       "Bikes          1166\n",
       "Clothing        744\n",
       "Name: Product_Category, dtype: int64"
      ]
     },
     "execution_count": 214,
     "metadata": {},
     "output_type": "execute_result"
    }
   ],
   "source": [
    "# your code goes here\n",
    "sales['Product_Category'].value_counts()\n",
    "# sales.head()"
   ]
  },
  {
   "cell_type": "markdown",
   "metadata": {},
   "source": [
    "Go ahead and show a <b>pie plot</b> with the results:"
   ]
  },
  {
   "cell_type": "code",
   "execution_count": 216,
   "metadata": {},
   "outputs": [
    {
     "data": {
      "text/plain": [
       "<AxesSubplot:ylabel='Product_Category'>"
      ]
     },
     "execution_count": 216,
     "metadata": {},
     "output_type": "execute_result"
    },
    {
     "data": {
      "image/png": "[encoded data removed]",
      "text/plain": [
       "<Figure size 432x432 with 1 Axes>"
      ]
     },
     "metadata": {},
     "output_type": "display_data"
    }
   ],
   "source": [
    "# your code goes here\n",
    "sales['Product_Category'].value_counts().plot(kind='pie', figsize=(6,6))"
   ]
  },
  {
   "cell_type": "markdown",
   "metadata": {},
   "source": [
    "![green-divider](https://user-images.githubusercontent.com/7065401/52071924-c003ad80-2562-11e9-8297-1c6595f8a7ff.png)\n",
    "\n",
    "### How many orders were made per accessory sub-categories?"
   ]
  },
  {
   "cell_type": "code",
   "execution_count": 229,
   "metadata": {},
   "outputs": [
    {
     "data": {
      "text/plain": [
       "Tires and Tubes      1458\n",
       "Bottles and Cages     719\n",
       "Helmets               553\n",
       "Fenders               183\n",
       "Cleaners               78\n",
       "Hydration Packs        64\n",
       "Bike Racks             26\n",
       "Bike Stands             9\n",
       "Gloves                  0\n",
       "Jerseys                 0\n",
       "Mountain Bikes          0\n",
       "Road Bikes              0\n",
       "Shorts                  0\n",
       "Socks                   0\n",
       "Caps                    0\n",
       "Touring Bikes           0\n",
       "Vests                   0\n",
       "Name: Sub_Category, dtype: int64"
      ]
     },
     "execution_count": 229,
     "metadata": {},
     "output_type": "execute_result"
    }
   ],
   "source": [
    "# your code goes here\n",
    "sales.loc[sales['Product_Category'] == 'Accessories', 'Sub_Category'].value_counts()"
   ]
  },
  {
   "cell_type": "markdown",
   "metadata": {},
   "source": [
    "Go ahead and show a <b>bar plot</b> with the results:"
   ]
  },
  {
   "cell_type": "code",
   "execution_count": 232,
   "metadata": {},
   "outputs": [
    {
     "data": {
      "text/plain": [
       "<AxesSubplot:>"
      ]
     },
     "execution_count": 232,
     "metadata": {},
     "output_type": "execute_result"
    },
    {
     "data": {
      "image/png": "[encoded data removed]",
      "text/plain": [
       "<Figure size 720x432 with 1 Axes>"
      ]
     },
     "metadata": {
      "needs_background": "light"
     },
     "output_type": "display_data"
    }
   ],
   "source": [
    "# your code goes here\n",
    "sales.loc[sales['Product_Category'] == 'Accessories', 'Sub_Category'].value_counts().plot(kind='bar', figsize=(10,6))"
   ]
  },
  {
   "cell_type": "markdown",
   "metadata": {},
   "source": [
    "![green-divider](https://user-images.githubusercontent.com/7065401/52071924-c003ad80-2562-11e9-8297-1c6595f8a7ff.png)\n",
    "\n",
    "### How many orders were made per bike sub-categories?"
   ]
  },
  {
   "cell_type": "code",
   "execution_count": 237,
   "metadata": {},
   "outputs": [
    {
     "data": {
      "text/plain": [
       "Road Bikes           600\n",
       "Mountain Bikes       391\n",
       "Touring Bikes        175\n",
       "Bike Racks             0\n",
       "Jerseys                0\n",
       "Tires and Tubes        0\n",
       "Socks                  0\n",
       "Shorts                 0\n",
       "Hydration Packs        0\n",
       "Bike Stands            0\n",
       "Helmets                0\n",
       "Gloves                 0\n",
       "Fenders                0\n",
       "Cleaners               0\n",
       "Caps                   0\n",
       "Bottles and Cages      0\n",
       "Vests                  0\n",
       "Name: Sub_Category, dtype: int64"
      ]
     },
     "execution_count": 237,
     "metadata": {},
     "output_type": "execute_result"
    }
   ],
   "source": [
    "# your code goes here\n",
    "sales.loc[sales['Product_Category'] == 'Bikes', 'Sub_Category'].value_counts()"
   ]
  },
  {
   "cell_type": "markdown",
   "metadata": {},
   "source": [
    "Go ahead and show a <b>pie plot</b> with the results:"
   ]
  },
  {
   "cell_type": "code",
   "execution_count": 238,
   "metadata": {},
   "outputs": [
    {
     "data": {
      "text/plain": [
       "<AxesSubplot:ylabel='Sub_Category'>"
      ]
     },
     "execution_count": 238,
     "metadata": {},
     "output_type": "execute_result"
    },
    {
     "data": {
      "image/png": "[encoded data removed]",
      "text/plain": [
       "<Figure size 432x432 with 1 Axes>"
      ]
     },
     "metadata": {},
     "output_type": "display_data"
    }
   ],
   "source": [
    "# your code goes here\n",
    "sales.loc[sales['Product_Category'] == 'Bikes', 'Sub_Category'].value_counts().plot(kind='pie', figsize=(6,6))"
   ]
  },
  {
   "cell_type": "markdown",
   "metadata": {},
   "source": [
    "![green-divider](https://user-images.githubusercontent.com/7065401/52071924-c003ad80-2562-11e9-8297-1c6595f8a7ff.png)\n",
    "\n",
    "### Which gender has the most amount of sales?"
   ]
  },
  {
   "cell_type": "code",
   "execution_count": 240,
   "metadata": {},
   "outputs": [
    {
     "data": {
      "text/plain": [
       "M    2564\n",
       "F    2436\n",
       "Name: Customer_Gender, dtype: int64"
      ]
     },
     "execution_count": 240,
     "metadata": {},
     "output_type": "execute_result"
    }
   ],
   "source": [
    "# your code goes here\n",
    "sales['Customer_Gender'].value_counts()"
   ]
  },
  {
   "cell_type": "markdown",
   "metadata": {},
   "source": [
    "![green-divider](https://user-images.githubusercontent.com/7065401/52071924-c003ad80-2562-11e9-8297-1c6595f8a7ff.png)\n",
    "\n",
    "### How many sales with more than 500 in `Revenue` were made by men?"
   ]
  },
  {
   "cell_type": "code",
   "execution_count": 250,
   "metadata": {},
   "outputs": [
    {
     "data": {
      "text/plain": [
       "1058"
      ]
     },
     "execution_count": 250,
     "metadata": {},
     "output_type": "execute_result"
    }
   ],
   "source": [
    "# your code goes here\n",
    "sales.loc[(sales['Customer_Gender'] == 'M') & (sales['Revenue'] > 500)].shape[0]"
   ]
  },
  {
   "cell_type": "markdown",
   "metadata": {},
   "source": [
    "![green-divider](https://user-images.githubusercontent.com/7065401/52071924-c003ad80-2562-11e9-8297-1c6595f8a7ff.png)\n",
    "\n",
    "### Get the top-5 sales with the highest revenue"
   ]
  },
  {
   "cell_type": "code",
   "execution_count": 252,
   "metadata": {},
   "outputs": [
    {
     "data": {
      "text/html": [
       "<div>\n",
       "<style scoped>\n",
       "    .dataframe tbody tr th:only-of-type {\n",
       "        vertical-align: middle;\n",
       "    }\n",
       "\n",
       "    .dataframe tbody tr th {\n",
       "        vertical-align: top;\n",
       "    }\n",
       "\n",
       "    .dataframe thead th {\n",
       "        text-align: right;\n",
       "    }\n",
       "</style>\n",
       "<table border=\"1\" class=\"dataframe\">\n",
       "  <thead>\n",
       "    <tr style=\"text-align: right;\">\n",
       "      <th></th>\n",
       "      <th>Date</th>\n",
       "      <th>Day</th>\n",
       "      <th>Month</th>\n",
       "      <th>Year</th>\n",
       "      <th>Customer_Age</th>\n",
       "      <th>Customer_Gender</th>\n",
       "      <th>Country</th>\n",
       "      <th>State</th>\n",
       "      <th>Product_Category</th>\n",
       "      <th>Sub_Category</th>\n",
       "      <th>Product</th>\n",
       "      <th>Order_Quantity</th>\n",
       "      <th>Unit_Cost</th>\n",
       "      <th>Unit_Price</th>\n",
       "      <th>Profit</th>\n",
       "      <th>Revenue</th>\n",
       "      <th>Cost</th>\n",
       "      <th>YearMonth</th>\n",
       "    </tr>\n",
       "  </thead>\n",
       "  <tbody>\n",
       "    <tr>\n",
       "      <th>4919</th>\n",
       "      <td>2011-03-27</td>\n",
       "      <td>27</td>\n",
       "      <td>March</td>\n",
       "      <td>2011</td>\n",
       "      <td>24</td>\n",
       "      <td>M</td>\n",
       "      <td>United States</td>\n",
       "      <td>California</td>\n",
       "      <td>Bikes</td>\n",
       "      <td>Road Bikes</td>\n",
       "      <td>Road-150 Red, 44</td>\n",
       "      <td>4</td>\n",
       "      <td>2171</td>\n",
       "      <td>3578</td>\n",
       "      <td>5342</td>\n",
       "      <td>14076</td>\n",
       "      <td>8684</td>\n",
       "      <td>2011_March</td>\n",
       "    </tr>\n",
       "    <tr>\n",
       "      <th>4985</th>\n",
       "      <td>2011-01-17</td>\n",
       "      <td>17</td>\n",
       "      <td>January</td>\n",
       "      <td>2011</td>\n",
       "      <td>44</td>\n",
       "      <td>F</td>\n",
       "      <td>United States</td>\n",
       "      <td>California</td>\n",
       "      <td>Bikes</td>\n",
       "      <td>Road Bikes</td>\n",
       "      <td>Road-150 Red, 62</td>\n",
       "      <td>4</td>\n",
       "      <td>2171</td>\n",
       "      <td>3578</td>\n",
       "      <td>5342</td>\n",
       "      <td>14076</td>\n",
       "      <td>8684</td>\n",
       "      <td>2011_January</td>\n",
       "    </tr>\n",
       "    <tr>\n",
       "      <th>2360</th>\n",
       "      <td>2015-12-11</td>\n",
       "      <td>11</td>\n",
       "      <td>December</td>\n",
       "      <td>2015</td>\n",
       "      <td>44</td>\n",
       "      <td>M</td>\n",
       "      <td>Canada</td>\n",
       "      <td>British Columbia</td>\n",
       "      <td>Bikes</td>\n",
       "      <td>Road Bikes</td>\n",
       "      <td>Road-150 Red, 62</td>\n",
       "      <td>3</td>\n",
       "      <td>2171</td>\n",
       "      <td>3578</td>\n",
       "      <td>4114</td>\n",
       "      <td>10677</td>\n",
       "      <td>6513</td>\n",
       "      <td>2015_December</td>\n",
       "    </tr>\n",
       "    <tr>\n",
       "      <th>4880</th>\n",
       "      <td>2011-12-29</td>\n",
       "      <td>29</td>\n",
       "      <td>December</td>\n",
       "      <td>2011</td>\n",
       "      <td>25</td>\n",
       "      <td>M</td>\n",
       "      <td>Canada</td>\n",
       "      <td>British Columbia</td>\n",
       "      <td>Bikes</td>\n",
       "      <td>Road Bikes</td>\n",
       "      <td>Road-150 Red, 62</td>\n",
       "      <td>3</td>\n",
       "      <td>2171</td>\n",
       "      <td>3578</td>\n",
       "      <td>4114</td>\n",
       "      <td>10677</td>\n",
       "      <td>6513</td>\n",
       "      <td>2011_December</td>\n",
       "    </tr>\n",
       "    <tr>\n",
       "      <th>198</th>\n",
       "      <td>2016-01-28</td>\n",
       "      <td>28</td>\n",
       "      <td>January</td>\n",
       "      <td>2016</td>\n",
       "      <td>34</td>\n",
       "      <td>M</td>\n",
       "      <td>Canada</td>\n",
       "      <td>British Columbia</td>\n",
       "      <td>Bikes</td>\n",
       "      <td>Road Bikes</td>\n",
       "      <td>Road-150 Red, 62</td>\n",
       "      <td>3</td>\n",
       "      <td>2171</td>\n",
       "      <td>3578</td>\n",
       "      <td>4114</td>\n",
       "      <td>10677</td>\n",
       "      <td>6513</td>\n",
       "      <td>2016_January</td>\n",
       "    </tr>\n",
       "  </tbody>\n",
       "</table>\n",
       "</div>"
      ],
      "text/plain": [
       "           Date  Day     Month  Year  Customer_Age Customer_Gender  \\\n",
       "4919 2011-03-27   27     March  2011            24               M   \n",
       "4985 2011-01-17   17   January  2011            44               F   \n",
       "2360 2015-12-11   11  December  2015            44               M   \n",
       "4880 2011-12-29   29  December  2011            25               M   \n",
       "198  2016-01-28   28   January  2016            34               M   \n",
       "\n",
       "            Country             State Product_Category Sub_Category  \\\n",
       "4919  United States        California            Bikes   Road Bikes   \n",
       "4985  United States        California            Bikes   Road Bikes   \n",
       "2360         Canada  British Columbia            Bikes   Road Bikes   \n",
       "4880         Canada  British Columbia            Bikes   Road Bikes   \n",
       "198          Canada  British Columbia            Bikes   Road Bikes   \n",
       "\n",
       "               Product  Order_Quantity  Unit_Cost  Unit_Price  Profit  \\\n",
       "4919  Road-150 Red, 44               4       2171        3578    5342   \n",
       "4985  Road-150 Red, 62               4       2171        3578    5342   \n",
       "2360  Road-150 Red, 62               3       2171        3578    4114   \n",
       "4880  Road-150 Red, 62               3       2171        3578    4114   \n",
       "198   Road-150 Red, 62               3       2171        3578    4114   \n",
       "\n",
       "      Revenue  Cost      YearMonth  \n",
       "4919    14076  8684     2011_March  \n",
       "4985    14076  8684   2011_January  \n",
       "2360    10677  6513  2015_December  \n",
       "4880    10677  6513  2011_December  \n",
       "198     10677  6513   2016_January  "
      ]
     },
     "execution_count": 252,
     "metadata": {},
     "output_type": "execute_result"
    }
   ],
   "source": [
    "# your code goes here\n",
    "sales.sort_values(['Revenue'], ascending=False).head(5)"
   ]
  },
  {
   "cell_type": "markdown",
   "metadata": {},
   "source": [
    "![green-divider](https://user-images.githubusercontent.com/7065401/52071924-c003ad80-2562-11e9-8297-1c6595f8a7ff.png)\n",
    "\n",
    "### Get the sale with the highest revenue"
   ]
  },
  {
   "cell_type": "code",
   "execution_count": 253,
   "metadata": {},
   "outputs": [
    {
     "data": {
      "text/html": [
       "<div>\n",
       "<style scoped>\n",
       "    .dataframe tbody tr th:only-of-type {\n",
       "        vertical-align: middle;\n",
       "    }\n",
       "\n",
       "    .dataframe tbody tr th {\n",
       "        vertical-align: top;\n",
       "    }\n",
       "\n",
       "    .dataframe thead th {\n",
       "        text-align: right;\n",
       "    }\n",
       "</style>\n",
       "<table border=\"1\" class=\"dataframe\">\n",
       "  <thead>\n",
       "    <tr style=\"text-align: right;\">\n",
       "      <th></th>\n",
       "      <th>Date</th>\n",
       "      <th>Day</th>\n",
       "      <th>Month</th>\n",
       "      <th>Year</th>\n",
       "      <th>Customer_Age</th>\n",
       "      <th>Customer_Gender</th>\n",
       "      <th>Country</th>\n",
       "      <th>State</th>\n",
       "      <th>Product_Category</th>\n",
       "      <th>Sub_Category</th>\n",
       "      <th>Product</th>\n",
       "      <th>Order_Quantity</th>\n",
       "      <th>Unit_Cost</th>\n",
       "      <th>Unit_Price</th>\n",
       "      <th>Profit</th>\n",
       "      <th>Revenue</th>\n",
       "      <th>Cost</th>\n",
       "      <th>YearMonth</th>\n",
       "    </tr>\n",
       "  </thead>\n",
       "  <tbody>\n",
       "    <tr>\n",
       "      <th>4919</th>\n",
       "      <td>2011-03-27</td>\n",
       "      <td>27</td>\n",
       "      <td>March</td>\n",
       "      <td>2011</td>\n",
       "      <td>24</td>\n",
       "      <td>M</td>\n",
       "      <td>United States</td>\n",
       "      <td>California</td>\n",
       "      <td>Bikes</td>\n",
       "      <td>Road Bikes</td>\n",
       "      <td>Road-150 Red, 44</td>\n",
       "      <td>4</td>\n",
       "      <td>2171</td>\n",
       "      <td>3578</td>\n",
       "      <td>5342</td>\n",
       "      <td>14076</td>\n",
       "      <td>8684</td>\n",
       "      <td>2011_March</td>\n",
       "    </tr>\n",
       "  </tbody>\n",
       "</table>\n",
       "</div>"
      ],
      "text/plain": [
       "           Date  Day  Month  Year  Customer_Age Customer_Gender  \\\n",
       "4919 2011-03-27   27  March  2011            24               M   \n",
       "\n",
       "            Country       State Product_Category Sub_Category  \\\n",
       "4919  United States  California            Bikes   Road Bikes   \n",
       "\n",
       "               Product  Order_Quantity  Unit_Cost  Unit_Price  Profit  \\\n",
       "4919  Road-150 Red, 44               4       2171        3578    5342   \n",
       "\n",
       "      Revenue  Cost   YearMonth  \n",
       "4919    14076  8684  2011_March  "
      ]
     },
     "execution_count": 253,
     "metadata": {},
     "output_type": "execute_result"
    }
   ],
   "source": [
    "# your code goes here\n",
    "sales.sort_values(['Revenue'], ascending=False).head(1)"
   ]
  },
  {
   "cell_type": "markdown",
   "metadata": {},
   "source": [
    "![green-divider](https://user-images.githubusercontent.com/7065401/52071924-c003ad80-2562-11e9-8297-1c6595f8a7ff.png)\n",
    "\n",
    "### What is the mean `Order_Quantity` of orders with more than 10K in revenue?"
   ]
  },
  {
   "cell_type": "code",
   "execution_count": 258,
   "metadata": {},
   "outputs": [
    {
     "data": {
      "text/plain": [
       "3.25"
      ]
     },
     "execution_count": 258,
     "metadata": {},
     "output_type": "execute_result"
    }
   ],
   "source": [
    "# your code goes here\n",
    "sales.loc[sales['Revenue'] > 10000, 'Order_Quantity'].mean()"
   ]
  },
  {
   "cell_type": "markdown",
   "metadata": {},
   "source": [
    "![green-divider](https://user-images.githubusercontent.com/7065401/52071924-c003ad80-2562-11e9-8297-1c6595f8a7ff.png)\n",
    "\n",
    "### What is the mean `Order_Quantity` of orders with less than 10K in revenue?"
   ]
  },
  {
   "cell_type": "code",
   "execution_count": 259,
   "metadata": {},
   "outputs": [
    {
     "data": {
      "text/plain": [
       "11.834134615384615"
      ]
     },
     "execution_count": 259,
     "metadata": {},
     "output_type": "execute_result"
    }
   ],
   "source": [
    "# your code goes here\n",
    "sales.loc[sales['Revenue'] < 10000, 'Order_Quantity'].mean()"
   ]
  },
  {
   "cell_type": "markdown",
   "metadata": {},
   "source": [
    "![green-divider](https://user-images.githubusercontent.com/7065401/52071924-c003ad80-2562-11e9-8297-1c6595f8a7ff.png)\n",
    "\n",
    "### How many orders were made in May of 2016?"
   ]
  },
  {
   "cell_type": "code",
   "execution_count": 267,
   "metadata": {},
   "outputs": [
    {
     "data": {
      "text/plain": [
       "214"
      ]
     },
     "execution_count": 267,
     "metadata": {},
     "output_type": "execute_result"
    }
   ],
   "source": [
    "# your code goes here\n",
    "sales.loc[(sales['Year'] == 2016) & (sales[\"Month\"] == 'May')].shape[0]\n"
   ]
  },
  {
   "cell_type": "markdown",
   "metadata": {},
   "source": [
    "![green-divider](https://user-images.githubusercontent.com/7065401/52071924-c003ad80-2562-11e9-8297-1c6595f8a7ff.png)\n",
    "\n",
    "### How many orders were made between May and July of 2016?"
   ]
  },
  {
   "cell_type": "code",
   "execution_count": 273,
   "metadata": {},
   "outputs": [
    {
     "data": {
      "text/plain": [
       "517"
      ]
     },
     "execution_count": 273,
     "metadata": {},
     "output_type": "execute_result"
    }
   ],
   "source": [
    "# your code goes here\n",
    "sales.loc[(sales['Year'] == 2016) & (sales['Month'].isin(['May', 'June', 'July']))].shape[0]"
   ]
  },
  {
   "cell_type": "markdown",
   "metadata": {},
   "source": [
    "Show a grouped <b>box plot</b> per month with the profit values."
   ]
  },
  {
   "cell_type": "code",
   "execution_count": 279,
   "metadata": {},
   "outputs": [
    {
     "data": {
      "text/plain": [
       "<AxesSubplot:title={'center':'Profit'}, xlabel='[Month]'>"
      ]
     },
     "execution_count": 279,
     "metadata": {},
     "output_type": "execute_result"
    },
    {
     "data": {
      "image/png": "[encoded data removed]",
      "text/plain": [
       "<Figure size 1008x432 with 1 Axes>"
      ]
     },
     "metadata": {
      "needs_background": "light"
     },
     "output_type": "display_data"
    }
   ],
   "source": [
    "# your code goes here\n",
    "profit_2016 = sales.loc[sales['Year'] == 2016, ['Profit', 'Month']]\n",
    "profit_2016.boxplot(by='Month', figsize=(14,6))"
   ]
  },
  {
   "cell_type": "markdown",
   "metadata": {},
   "source": [
    "![green-divider](https://user-images.githubusercontent.com/7065401/52071924-c003ad80-2562-11e9-8297-1c6595f8a7ff.png)\n",
    "\n",
    "### Add 7.2% TAX on every sale `Unit_Price` within United States"
   ]
  },
  {
   "cell_type": "code",
   "execution_count": 290,
   "metadata": {},
   "outputs": [
    {
     "data": {
      "text/html": [
       "<div>\n",
       "<style scoped>\n",
       "    .dataframe tbody tr th:only-of-type {\n",
       "        vertical-align: middle;\n",
       "    }\n",
       "\n",
       "    .dataframe tbody tr th {\n",
       "        vertical-align: top;\n",
       "    }\n",
       "\n",
       "    .dataframe thead th {\n",
       "        text-align: right;\n",
       "    }\n",
       "</style>\n",
       "<table border=\"1\" class=\"dataframe\">\n",
       "  <thead>\n",
       "    <tr style=\"text-align: right;\">\n",
       "      <th></th>\n",
       "      <th>Date</th>\n",
       "      <th>Day</th>\n",
       "      <th>Month</th>\n",
       "      <th>Year</th>\n",
       "      <th>Customer_Age</th>\n",
       "      <th>Customer_Gender</th>\n",
       "      <th>Country</th>\n",
       "      <th>State</th>\n",
       "      <th>Product_Category</th>\n",
       "      <th>Sub_Category</th>\n",
       "      <th>Product</th>\n",
       "      <th>Order_Quantity</th>\n",
       "      <th>Unit_Cost</th>\n",
       "      <th>Unit_Price</th>\n",
       "      <th>Profit</th>\n",
       "      <th>Revenue</th>\n",
       "      <th>Cost</th>\n",
       "      <th>YearMonth</th>\n",
       "    </tr>\n",
       "  </thead>\n",
       "  <tbody>\n",
       "    <tr>\n",
       "      <th>0</th>\n",
       "      <td>2016-07-19</td>\n",
       "      <td>19</td>\n",
       "      <td>July</td>\n",
       "      <td>2016</td>\n",
       "      <td>37</td>\n",
       "      <td>F</td>\n",
       "      <td>United States</td>\n",
       "      <td>California</td>\n",
       "      <td>Accessories</td>\n",
       "      <td>Helmets</td>\n",
       "      <td>Sport-100 Helmet, Red</td>\n",
       "      <td>25</td>\n",
       "      <td>13</td>\n",
       "      <td>43.117384</td>\n",
       "      <td>533</td>\n",
       "      <td>908</td>\n",
       "      <td>325</td>\n",
       "      <td>2016_July</td>\n",
       "    </tr>\n",
       "    <tr>\n",
       "      <th>1</th>\n",
       "      <td>2016-02-01</td>\n",
       "      <td>1</td>\n",
       "      <td>February</td>\n",
       "      <td>2016</td>\n",
       "      <td>30</td>\n",
       "      <td>M</td>\n",
       "      <td>Canada</td>\n",
       "      <td>British Columbia</td>\n",
       "      <td>Clothing</td>\n",
       "      <td>Gloves</td>\n",
       "      <td>Half-Finger Gloves, L</td>\n",
       "      <td>14</td>\n",
       "      <td>9</td>\n",
       "      <td>24.000000</td>\n",
       "      <td>207</td>\n",
       "      <td>383</td>\n",
       "      <td>126</td>\n",
       "      <td>2016_February</td>\n",
       "    </tr>\n",
       "    <tr>\n",
       "      <th>2</th>\n",
       "      <td>2016-03-22</td>\n",
       "      <td>22</td>\n",
       "      <td>March</td>\n",
       "      <td>2016</td>\n",
       "      <td>61</td>\n",
       "      <td>F</td>\n",
       "      <td>Australia</td>\n",
       "      <td>New South Wales</td>\n",
       "      <td>Accessories</td>\n",
       "      <td>Tires and Tubes</td>\n",
       "      <td>LL Road Tire</td>\n",
       "      <td>5</td>\n",
       "      <td>8</td>\n",
       "      <td>21.000000</td>\n",
       "      <td>51</td>\n",
       "      <td>141</td>\n",
       "      <td>40</td>\n",
       "      <td>2016_March</td>\n",
       "    </tr>\n",
       "    <tr>\n",
       "      <th>3</th>\n",
       "      <td>2016-01-26</td>\n",
       "      <td>26</td>\n",
       "      <td>January</td>\n",
       "      <td>2016</td>\n",
       "      <td>35</td>\n",
       "      <td>M</td>\n",
       "      <td>Germany</td>\n",
       "      <td>Bayern</td>\n",
       "      <td>Accessories</td>\n",
       "      <td>Tires and Tubes</td>\n",
       "      <td>Road Tire Tube</td>\n",
       "      <td>4</td>\n",
       "      <td>1</td>\n",
       "      <td>4.000000</td>\n",
       "      <td>12</td>\n",
       "      <td>66</td>\n",
       "      <td>4</td>\n",
       "      <td>2016_January</td>\n",
       "    </tr>\n",
       "    <tr>\n",
       "      <th>4</th>\n",
       "      <td>2016-01-21</td>\n",
       "      <td>21</td>\n",
       "      <td>January</td>\n",
       "      <td>2016</td>\n",
       "      <td>39</td>\n",
       "      <td>M</td>\n",
       "      <td>Australia</td>\n",
       "      <td>New South Wales</td>\n",
       "      <td>Clothing</td>\n",
       "      <td>Vests</td>\n",
       "      <td>Classic Vest, M</td>\n",
       "      <td>4</td>\n",
       "      <td>24</td>\n",
       "      <td>64.000000</td>\n",
       "      <td>127</td>\n",
       "      <td>273</td>\n",
       "      <td>96</td>\n",
       "      <td>2016_January</td>\n",
       "    </tr>\n",
       "  </tbody>\n",
       "</table>\n",
       "</div>"
      ],
      "text/plain": [
       "        Date  Day     Month  Year  Customer_Age Customer_Gender  \\\n",
       "0 2016-07-19   19      July  2016            37               F   \n",
       "1 2016-02-01    1  February  2016            30               M   \n",
       "2 2016-03-22   22     March  2016            61               F   \n",
       "3 2016-01-26   26   January  2016            35               M   \n",
       "4 2016-01-21   21   January  2016            39               M   \n",
       "\n",
       "         Country             State Product_Category     Sub_Category  \\\n",
       "0  United States        California      Accessories          Helmets   \n",
       "1         Canada  British Columbia         Clothing           Gloves   \n",
       "2      Australia   New South Wales      Accessories  Tires and Tubes   \n",
       "3        Germany            Bayern      Accessories  Tires and Tubes   \n",
       "4      Australia   New South Wales         Clothing            Vests   \n",
       "\n",
       "                 Product  Order_Quantity  Unit_Cost  Unit_Price  Profit  \\\n",
       "0  Sport-100 Helmet, Red              25         13   43.117384     533   \n",
       "1  Half-Finger Gloves, L              14          9   24.000000     207   \n",
       "2           LL Road Tire               5          8   21.000000      51   \n",
       "3         Road Tire Tube               4          1    4.000000      12   \n",
       "4        Classic Vest, M               4         24   64.000000     127   \n",
       "\n",
       "   Revenue  Cost      YearMonth  \n",
       "0      908   325      2016_July  \n",
       "1      383   126  2016_February  \n",
       "2      141    40     2016_March  \n",
       "3       66     4   2016_January  \n",
       "4      273    96   2016_January  "
      ]
     },
     "execution_count": 290,
     "metadata": {},
     "output_type": "execute_result"
    }
   ],
   "source": [
    "# your code goes here\n",
    "sales.loc[sales['Country'] == 'United States', 'Unit_Price'] *= 1.072\n",
    "\n",
    "sales.head()"
   ]
  },
  {
   "cell_type": "markdown",
   "metadata": {},
   "source": [
    "![purple-divider](https://user-images.githubusercontent.com/7065401/52071927-c1cd7100-2562-11e9-908a-dde91ba14e59.png)"
   ]
  }
 ],
 "metadata": {
  "kernelspec": {
   "display_name": "Python 3 (ipykernel)",
   "language": "python",
   "name": "python3"
  },
  "language_info": {
   "codemirror_mode": {
    "name": "ipython",
    "version": 3
   },
   "file_extension": ".py",
   "mimetype": "text/x-python",
   "name": "python",
   "nbconvert_exporter": "python",
   "pygments_lexer": "ipython3",
   "version": "3.9.12"
  }
 },
 "nbformat": 4,
 "nbformat_minor": 2
}
